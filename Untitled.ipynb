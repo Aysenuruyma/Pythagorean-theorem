{
 "cells": [
  {
   "cell_type": "code",
   "execution_count": 65,
   "id": "scientific-richmond",
   "metadata": {},
   "outputs": [],
   "source": [
    "import numpy as np\n",
    "import matplotlib.pyplot as plt"
   ]
  },
  {
   "cell_type": "markdown",
   "id": "cardiac-producer",
   "metadata": {},
   "source": [
    "# Hypotenus"
   ]
  },
  {
   "cell_type": "markdown",
   "id": "thermal-contest",
   "metadata": {},
   "source": [
    "$c^2=a^2+b^2$"
   ]
  },
  {
   "cell_type": "code",
   "execution_count": 66,
   "id": "attached-metallic",
   "metadata": {},
   "outputs": [
    {
     "name": "stdout",
     "output_type": "stream",
     "text": [
      "Enter the first side lenght: 6\n",
      "enter teh other side lenght: 8\n"
     ]
    }
   ],
   "source": [
    "a = float(input(\"Enter the first side lenght: \"))\n",
    "b = float (input (\"enter teh other side lenght: \"))"
   ]
  },
  {
   "cell_type": "code",
   "execution_count": 67,
   "id": "certified-census",
   "metadata": {},
   "outputs": [
    {
     "name": "stdout",
     "output_type": "stream",
     "text": [
      "10.0\n"
     ]
    }
   ],
   "source": [
    "c = a**2 + b**2\n",
    "print(np.sqrt(c))"
   ]
  },
  {
   "cell_type": "code",
   "execution_count": 68,
   "id": "sized-grove",
   "metadata": {},
   "outputs": [
    {
     "data": {
      "text/plain": [
       "Text(4.0, 3.0, '10.0')"
      ]
     },
     "execution_count": 68,
     "metadata": {},
     "output_type": "execute_result"
    },
    {
     "data": {
      "image/png": "[encoded data removed]",
      "text/plain": [
       "<Figure size 432x288 with 1 Axes>"
      ]
     },
     "metadata": {
      "needs_background": "light"
     },
     "output_type": "display_data"
    }
   ],
   "source": [
    "plt.plot([0, b], [0, 0], c='r')\n",
    "plt.plot([0, 0], [0, a], c='r')\n",
    "plt.plot([0, b], [a, 0], c='r')\n",
    "\n",
    "plt.title(\"Triangle\")\n",
    "plt.xlabel (\"x\")\n",
    "plt.ylabel (\"y\")\n",
    "plt.grid()\n",
    "\n",
    "plt.text (b/2 - 0.5, 0.2, str(b), fontsize = 15)\n",
    "plt.text (0, a/2, str(a), fontsize = 15)\n",
    "plt.text (b/2, a/2, str(np.sqrt(c)), fontsize = 15)"
   ]
  },
  {
   "cell_type": "code",
   "execution_count": null,
   "id": "silver-trance",
   "metadata": {},
   "outputs": [],
   "source": []
  },
  {
   "cell_type": "code",
   "execution_count": null,
   "id": "determined-payment",
   "metadata": {},
   "outputs": [],
   "source": []
  },
  {
   "cell_type": "code",
   "execution_count": null,
   "id": "satisfactory-geneva",
   "metadata": {},
   "outputs": [],
   "source": []
  }
 ],
 "metadata": {
  "kernelspec": {
   "display_name": "Python 3",
   "language": "python",
   "name": "python3"
  },
  "language_info": {
   "codemirror_mode": {
    "name": "ipython",
    "version": 3
   },
   "file_extension": ".py",
   "mimetype": "text/x-python",
   "name": "python",
   "nbconvert_exporter": "python",
   "pygments_lexer": "ipython3",
   "version": "3.9.1"
  }
 },
 "nbformat": 4,
 "nbformat_minor": 5
}
